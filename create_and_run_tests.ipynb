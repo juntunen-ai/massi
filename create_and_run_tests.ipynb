{
 "cells": [
  {
   "cell_type": "markdown",
   "id": "7878279b",
   "metadata": {},
   "source": [
    "# Import Required Libraries\n",
    "Import the unittest library and any other necessary modules."
   ]
  },
  {
   "cell_type": "code",
   "execution_count": null,
   "id": "e809d46d",
   "metadata": {},
   "outputs": [],
   "source": [
    "# Import Required Libraries\n",
    "import unittest"
   ]
  },
  {
   "cell_type": "markdown",
   "id": "4addb14d",
   "metadata": {},
   "source": [
    "# Write a Simple Function to Test\n",
    "Define a simple Python function that will be tested, such as a function to add two numbers."
   ]
  },
  {
   "cell_type": "code",
   "execution_count": null,
   "id": "2ca220f4",
   "metadata": {},
   "outputs": [],
   "source": [
    "# Write a Simple Function to Test\n",
    "def add_numbers(a, b):\n",
    "    \"\"\"Returns the sum of two numbers.\"\"\"\n",
    "    return a + b"
   ]
  },
  {
   "cell_type": "markdown",
   "id": "2ed82689",
   "metadata": {},
   "source": [
    "# Create Unit Tests Using unittest\n",
    "Write test cases using the unittest.TestCase class to validate the behavior of the function."
   ]
  },
  {
   "cell_type": "code",
   "execution_count": null,
   "id": "8ee45e7d",
   "metadata": {},
   "outputs": [],
   "source": [
    "# Create Unit Tests Using unittest\n",
    "class TestAddNumbers(unittest.TestCase):\n",
    "    def test_add_positive_numbers(self):\n",
    "        self.assertEqual(add_numbers(2, 3), 5)\n",
    "\n",
    "    def test_add_negative_numbers(self):\n",
    "        self.assertEqual(add_numbers(-1, -1), -2)\n",
    "\n",
    "    def test_add_mixed_numbers(self):\n",
    "        self.assertEqual(add_numbers(-1, 1), 0)"
   ]
  },
  {
   "cell_type": "markdown",
   "id": "de80589d",
   "metadata": {},
   "source": [
    "# Run Tests in the Notebook\n",
    "Use unittest's built-in test runner to execute the tests and display the results in the notebook."
   ]
  },
  {
   "cell_type": "code",
   "execution_count": null,
   "id": "346c043d",
   "metadata": {},
   "outputs": [],
   "source": [
    "# Run Tests in the Notebook\n",
    "if __name__ == \"__main__\":\n",
    "    unittest.TextTestRunner().run(unittest.TestLoader().loadTestsFromTestCase(TestAddNumbers))"
   ]
  }
 ],
 "metadata": {
  "language_info": {
   "name": "python"
  }
 },
 "nbformat": 4,
 "nbformat_minor": 5
}
